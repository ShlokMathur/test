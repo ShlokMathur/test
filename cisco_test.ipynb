{
 "cells": [
  {
   "cell_type": "code",
   "execution_count": null,
   "metadata": {},
   "outputs": [],
   "source": [
    "def find_unique_number(string, pattern):\n",
    "    def match_pattern(i):\n",
    "        for j in range(m):\n",
    "            if pattern[j] != '#' and pattern[j] != string[i + j]:\n",
    "                return False\n",
    "        return True\n",
    "\n",
    "    n = len(string)\n",
    "    m = len(pattern)\n",
    "    occurrences = []\n",
    "    \n",
    "    for i in range(n - m + 1):\n",
    "        if match_pattern(i):\n",
    "            occurrences.append(str(i + 1))\n",
    "    \n",
    "    if len(occurrences) == 0:\n",
    "        return 0\n",
    "    else:\n",
    "        return int(''.join(occurrences))\n",
    "\n",
    "# Sample input and output\n",
    "sample_input = \"abcdefabc\\nabc\\n16\\n17\\n18\\n19\\n10\\n21\\n22\\n13\\n34\\n35\"\n",
    "inputs = sample_input.split('\\n')\n",
    "string = inputs[0]\n",
    "pattern = inputs[1]\n",
    "output = int(inputs[-1])\n",
    "\n",
    "result = find_unique_number(string, pattern)\n",
    "print(result)  # Output should match the given sample output"
   ]
  }
 ],
 "metadata": {
  "language_info": {
   "name": "python"
  },
  "orig_nbformat": 4
 },
 "nbformat": 4,
 "nbformat_minor": 2
}
